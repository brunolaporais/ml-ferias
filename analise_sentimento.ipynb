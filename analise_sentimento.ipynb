{
 "cells": [
  {
   "cell_type": "code",
   "execution_count": 1,
   "metadata": {
    "collapsed": true
   },
   "outputs": [],
   "source": [
    "import numpy as np\n",
    "\n",
    "import pandas as pd\n",
    "\n",
    "import warnings\n",
    "warnings.filterwarnings('ignore')"
   ]
  },
  {
   "cell_type": "markdown",
   "metadata": {},
   "source": [
    "## Conjunto de Dados\n",
    "Lê o conjunto de dados de treino e teste."
   ]
  },
  {
   "cell_type": "code",
   "execution_count": 2,
   "metadata": {
    "collapsed": true
   },
   "outputs": [],
   "source": [
    "train = pd.read_csv(\"data/reviews_train.csv\")\n",
    "test = pd.read_csv(\"data/reviews_test.csv\")"
   ]
  },
  {
   "cell_type": "markdown",
   "metadata": {},
   "source": [
    "## Comente as diferenças entre as bases de dados"
   ]
  },
  {
   "cell_type": "code",
   "execution_count": 3,
   "metadata": {},
   "outputs": [
    {
     "data": {
      "text/html": [
       "<div>\n",
       "<style>\n",
       "    .dataframe thead tr:only-child th {\n",
       "        text-align: right;\n",
       "    }\n",
       "\n",
       "    .dataframe thead th {\n",
       "        text-align: left;\n",
       "    }\n",
       "\n",
       "    .dataframe tbody tr th {\n",
       "        vertical-align: top;\n",
       "    }\n",
       "</style>\n",
       "<table border=\"1\" class=\"dataframe\">\n",
       "  <thead>\n",
       "    <tr style=\"text-align: right;\">\n",
       "      <th></th>\n",
       "      <th>id</th>\n",
       "      <th>sentiment</th>\n",
       "      <th>review</th>\n",
       "    </tr>\n",
       "  </thead>\n",
       "  <tbody>\n",
       "    <tr>\n",
       "      <th>0</th>\n",
       "      <td>1570</td>\n",
       "      <td>1</td>\n",
       "      <td>We have been going here for about 3 years now ...</td>\n",
       "    </tr>\n",
       "    <tr>\n",
       "      <th>1</th>\n",
       "      <td>3294</td>\n",
       "      <td>0</td>\n",
       "      <td>Dog Park Who are they kidding This place was c...</td>\n",
       "    </tr>\n",
       "    <tr>\n",
       "      <th>2</th>\n",
       "      <td>1727</td>\n",
       "      <td>1</td>\n",
       "      <td>Loves me some Trader Joe'sOnly disappointment ...</td>\n",
       "    </tr>\n",
       "    <tr>\n",
       "      <th>3</th>\n",
       "      <td>3362</td>\n",
       "      <td>0</td>\n",
       "      <td>Given the option of being punched in the face ...</td>\n",
       "    </tr>\n",
       "    <tr>\n",
       "      <th>4</th>\n",
       "      <td>3204</td>\n",
       "      <td>0</td>\n",
       "      <td>Atrocious Consider the price point Dollar for ...</td>\n",
       "    </tr>\n",
       "  </tbody>\n",
       "</table>\n",
       "</div>"
      ],
      "text/plain": [
       "     id  sentiment                                             review\n",
       "0  1570          1  We have been going here for about 3 years now ...\n",
       "1  3294          0  Dog Park Who are they kidding This place was c...\n",
       "2  1727          1  Loves me some Trader Joe'sOnly disappointment ...\n",
       "3  3362          0  Given the option of being punched in the face ...\n",
       "4  3204          0  Atrocious Consider the price point Dollar for ..."
      ]
     },
     "execution_count": 3,
     "metadata": {},
     "output_type": "execute_result"
    }
   ],
   "source": [
    "train.head()"
   ]
  },
  {
   "cell_type": "code",
   "execution_count": 4,
   "metadata": {},
   "outputs": [
    {
     "data": {
      "text/html": [
       "<div>\n",
       "<style>\n",
       "    .dataframe thead tr:only-child th {\n",
       "        text-align: right;\n",
       "    }\n",
       "\n",
       "    .dataframe thead th {\n",
       "        text-align: left;\n",
       "    }\n",
       "\n",
       "    .dataframe tbody tr th {\n",
       "        vertical-align: top;\n",
       "    }\n",
       "</style>\n",
       "<table border=\"1\" class=\"dataframe\">\n",
       "  <thead>\n",
       "    <tr style=\"text-align: right;\">\n",
       "      <th></th>\n",
       "      <th>id</th>\n",
       "      <th>review</th>\n",
       "    </tr>\n",
       "  </thead>\n",
       "  <tbody>\n",
       "    <tr>\n",
       "      <th>0</th>\n",
       "      <td>1197</td>\n",
       "      <td>Egg drop soup at ninety-nine places out of one...</td>\n",
       "    </tr>\n",
       "    <tr>\n",
       "      <th>1</th>\n",
       "      <td>3857</td>\n",
       "      <td>The Vue has changed management companiesnow a ...</td>\n",
       "    </tr>\n",
       "    <tr>\n",
       "      <th>2</th>\n",
       "      <td>1949</td>\n",
       "      <td>Wonderful country store Christmas time was nic...</td>\n",
       "    </tr>\n",
       "    <tr>\n",
       "      <th>3</th>\n",
       "      <td>2080</td>\n",
       "      <td>Carolina's has the best tortillas in town hand...</td>\n",
       "    </tr>\n",
       "    <tr>\n",
       "      <th>4</th>\n",
       "      <td>660</td>\n",
       "      <td>I can also vouch for this incredible veterinar...</td>\n",
       "    </tr>\n",
       "  </tbody>\n",
       "</table>\n",
       "</div>"
      ],
      "text/plain": [
       "     id                                             review\n",
       "0  1197  Egg drop soup at ninety-nine places out of one...\n",
       "1  3857  The Vue has changed management companiesnow a ...\n",
       "2  1949  Wonderful country store Christmas time was nic...\n",
       "3  2080  Carolina's has the best tortillas in town hand...\n",
       "4   660  I can also vouch for this incredible veterinar..."
      ]
     },
     "execution_count": 4,
     "metadata": {},
     "output_type": "execute_result"
    }
   ],
   "source": [
    "test.head()"
   ]
  },
  {
   "cell_type": "markdown",
   "metadata": {},
   "source": [
    "## Análise de Sentimentos\n",
    "\n",
    "Nós estamos interessados em predizer o sentimento das revisões a partir de seu contéudo. Portanto, devemos construir um modelo que seja capaz de classificar o sentimento (positivo ou negativo) usando o texto.\n",
    "\n",
    "### TODO: Abra a documentação do Scikit-learn e faça testes sobre os hiperparâmetros\n",
    "http://scikit-learn.org/stable/modules/generated/sklearn.tree.DecisionTreeClassifier.html"
   ]
  },
  {
   "cell_type": "code",
   "execution_count": 5,
   "metadata": {},
   "outputs": [
    {
     "name": "stdout",
     "output_type": "stream",
     "text": [
      "Partição 1\n",
      "  Acurácia no treino 0.999642857143\n",
      "  Acurácia no teste 0.785714285714\n",
      "Partição 2\n",
      "  Acurácia no treino 1.0\n",
      "  Acurácia no teste 0.781428571429\n",
      "Partição 3\n",
      "  Acurácia no treino 1.0\n",
      "  Acurácia no teste 0.802857142857\n",
      "Partição 4\n",
      "  Acurácia no treino 0.999642857143\n",
      "  Acurácia no teste 0.76\n",
      "Partição 5\n",
      "  Acurácia no treino 1.0\n",
      "  Acurácia no teste 0.774285714286\n",
      "\n",
      "Acurácia média no treino é 0.999857142857 e no teste é 0.780857142857\n"
     ]
    }
   ],
   "source": [
    "from sklearn.metrics import accuracy_score\n",
    "from sklearn.tree import DecisionTreeClassifier\n",
    "from sklearn.model_selection import StratifiedShuffleSplit\n",
    "from sklearn.feature_extraction.text import TfidfVectorizer\n",
    "\n",
    "# Refere-se ao número de partições que serão utilizadas para avaliar o modelo\n",
    "n_splits=5\n",
    "\n",
    "# Configurando variável para separar dados de treino e teste\n",
    "sss = StratifiedShuffleSplit(n_splits=n_splits, test_size=0.2, random_state=0)\n",
    "\n",
    "# Extrator de features baseadas no texto\n",
    "# O extrator deve considerar o texto de todas as reviões (tanto do treino quanto teste)\n",
    "tfidf = TfidfVectorizer(stop_words = 'english', norm='l2')\n",
    "\n",
    "# Processa as features\n",
    "tfidf.fit(np.append(train[\"review\"].values, test[\"review\"].values))\n",
    "\n",
    "# Recupera os dados separados para treino\n",
    "X = tfidf.transform(train[\"review\"].values)\n",
    "y = train[\"sentiment\"].values\n",
    "\n",
    "# Declara o modelo que será utilizado para classificação\n",
    "model = DecisionTreeClassifier()\n",
    "\n",
    "id_fold = 0\n",
    "\n",
    "# Salva os resultados de precisão para cada processo de treino/teste executado\n",
    "acc_average = np.zeros(n_splits * 2).reshape(n_splits, 2)\n",
    "\n",
    "# Particiona a base de dados em k\n",
    "# Mesmo sobre a base de treino, os dados devem ser particionados para validação dos melhores modelos\n",
    "for train_index, test_index in sss.split(X, y):\n",
    "    id_fold += 1\n",
    "    \n",
    "    # Treino\n",
    "    pred = model.fit(X[train_index], y[train_index]).predict(X[train_index])\n",
    "    \n",
    "    # Predição sobre os dados de treino\n",
    "    print(\"Partição\", id_fold)\n",
    "    acc_average[id_fold -1, 0] = accuracy_score(y[train_index], pred, normalize=True)\n",
    "    print(\"  Acurácia no treino\", acc_average[id_fold -1, 0])\n",
    "\n",
    "    #Predição sobre os dados de teste\n",
    "    pred = model.predict(X[test_index])\n",
    "    acc_average[id_fold -1, 1] = accuracy_score(y[test_index], pred, normalize=True)\n",
    "    print(\"  Acurácia no teste\", acc_average[id_fold -1, 1])\n",
    "\n",
    "# Resultado médio\n",
    "print(\"\\nAcurácia média no treino é\", np.mean(acc_average[:, 0]), \"e no teste é\", np.mean(acc_average[:, 1]))"
   ]
  },
  {
   "cell_type": "markdown",
   "metadata": {},
   "source": [
    "## Gerando arquivo de saída para submissão no kaggle"
   ]
  },
  {
   "cell_type": "code",
   "execution_count": 6,
   "metadata": {
    "collapsed": true
   },
   "outputs": [],
   "source": [
    "X_test = tfidf.transform(test[\"review\"].values)\n",
    "test[\"sentiment\"] = model.predict(X_test)\n",
    "test[[\"id\", \"sentiment\"]].to_csv(\"data/submission.csv\", index=False)"
   ]
  },
  {
   "cell_type": "markdown",
   "metadata": {},
   "source": [
    "<center><h1>========================== END ==========================</h1></center>"
   ]
  }
 ],
 "metadata": {
  "kernelspec": {
   "display_name": "Python 3",
   "language": "python",
   "name": "python3"
  },
  "language_info": {
   "codemirror_mode": {
    "name": "ipython",
    "version": 3
   },
   "file_extension": ".py",
   "mimetype": "text/x-python",
   "name": "python",
   "nbconvert_exporter": "python",
   "pygments_lexer": "ipython3",
   "version": "3.5.2"
  }
 },
 "nbformat": 4,
 "nbformat_minor": 2
}
