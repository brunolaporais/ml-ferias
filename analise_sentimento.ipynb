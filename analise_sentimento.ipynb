{
 "cells": [
  {
   "cell_type": "code",
   "execution_count": null,
   "metadata": {
    "collapsed": true
   },
   "outputs": [],
   "source": [
    "import urllib\n",
    "import os\n",
    "import zipfile\n",
    "\n",
    "import numpy as np\n",
    "\n",
    "import pandas as pd\n",
    "\n",
    "import warnings\n",
    "warnings.filterwarnings('ignore')"
   ]
  },
  {
   "cell_type": "markdown",
   "metadata": {},
   "source": [
    "## Conjunto de Dados\n",
    "Lê o conjunto de dados de treino e teste."
   ]
  },
  {
   "cell_type": "code",
   "execution_count": null,
   "metadata": {
    "collapsed": true
   },
   "outputs": [],
   "source": [
    "train = pd.read_csv(\"data/reviews_train.csv\")\n",
    "test = pd.read_csv(\"data/reviews_test.csv\")"
   ]
  },
  {
   "cell_type": "markdown",
   "metadata": {},
   "source": [
    "## Comente as diferenças entre as bases de dados"
   ]
  },
  {
   "cell_type": "code",
   "execution_count": null,
   "metadata": {},
   "outputs": [],
   "source": [
    "train.head()"
   ]
  },
  {
   "cell_type": "code",
   "execution_count": null,
   "metadata": {},
   "outputs": [],
   "source": [
    "test.head()"
   ]
  },
  {
   "cell_type": "markdown",
   "metadata": {},
   "source": [
    "## Análise de Sentimentos\n",
    "\n",
    "Nós estamos interessados em predizer o sentimento das revisões a partir de seu contéudo. Portanto, devemos construir um modelo que seja capaz de classificar o sentimento (positivo ou negativo) usando o texto.\n",
    "\n",
    "### TODO: Abra a documentação do Scikit-learn e faça testes sobre os hiperparâmetros\n",
    "http://scikit-learn.org/stable/modules/generated/sklearn.tree.DecisionTreeClassifier.html"
   ]
  },
  {
   "cell_type": "code",
   "execution_count": null,
   "metadata": {},
   "outputs": [],
   "source": [
    "from sklearn.metrics import accuracy_score\n",
    "from sklearn.tree import DecisionTreeClassifier\n",
    "from sklearn.model_selection import StratifiedShuffleSplit\n",
    "from sklearn.feature_extraction.text import TfidfVectorizer\n",
    "\n",
    "# Refere-se ao número de partições que serão utilizadas para avaliar o modelo\n",
    "n_splits=5\n",
    "\n",
    "# Configurando variável para separar dados de treino e teste\n",
    "sss = StratifiedShuffleSplit(n_splits=n_splits, test_size=0.2, random_state=0)\n",
    "\n",
    "# Extrator de features baseadas no texto\n",
    "# O extrator deve considerar o texto de todas as reviões (tanto do treino quanto teste)\n",
    "tfidf = TfidfVectorizer(stop_words = 'english', norm='l2')\n",
    "\n",
    "# Processa as features\n",
    "tfidf.fit(np.append(train[\"review\"].values, test[\"review\"].values))\n",
    "\n",
    "# Recupera os dados separados para treino\n",
    "X = tfidf.transform(train[\"review\"].values)\n",
    "y = train[\"sentiment\"].values\n",
    "\n",
    "# Declara o modelo que será utilizado para classificação\n",
    "model = DecisionTreeClassifier()\n",
    "\n",
    "id_fold = 0\n",
    "\n",
    "# Salva os resultados de precisão para cada processo de treino/teste executado\n",
    "acc_average = np.zeros(n_splits * 2).reshape(n_splits, 2)\n",
    "\n",
    "# Particiona a base de dados em k\n",
    "# Mesmo sobre a base de treino, os dados devem ser particionados para validação dos melhores modelos\n",
    "for train_index, test_index in sss.split(X, y):\n",
    "    id_fold += 1\n",
    "    \n",
    "    # Treino\n",
    "    pred = model.fit(X[train_index], y[train_index]).predict(X[train_index])\n",
    "    \n",
    "    # Predição sobre os dados de treino\n",
    "    print(\"Partição\", id_fold)\n",
    "    acc_average[id_fold -1, 0] = accuracy_score(y[train_index], pred, normalize=True)\n",
    "    print(\"  Acurácia no treino\", acc_average[id_fold -1, 0])\n",
    "\n",
    "    #Predição sobre os dados de teste\n",
    "    pred = model.predict(X[test_index])\n",
    "    acc_average[id_fold -1, 1] = accuracy_score(y[test_index], pred, normalize=True)\n",
    "    print(\"  Acurácia no teste\", acc_average[id_fold -1, 1])\n",
    "\n",
    "# Resultado médio\n",
    "print(\"\\nAcurácia média no treino é\", np.mean(acc_average[:, 0]), \"e no teste é\", np.mean(acc_average[:, 1]))"
   ]
  },
  {
   "cell_type": "markdown",
   "metadata": {},
   "source": [
    "## Gerando arquivo de saída para submissão no kaggle"
   ]
  },
  {
   "cell_type": "code",
   "execution_count": null,
   "metadata": {
    "collapsed": true
   },
   "outputs": [],
   "source": [
    "X_test = tfidf.transform(test[\"review\"].values)\n",
    "test[\"sentiment\"] = model.predict(X_test)\n",
    "test[[\"id\", \"sentiment\"]].to_csv(\"data/submission.csv\", index=False)"
   ]
  },
  {
   "cell_type": "markdown",
   "metadata": {},
   "source": [
    "<center><h1>========================== END ==========================</h1></center>"
   ]
  }
 ],
 "metadata": {
  "kernelspec": {
   "display_name": "Python 3",
   "language": "python",
   "name": "python3"
  },
  "language_info": {
   "codemirror_mode": {
    "name": "ipython",
    "version": 3
   },
   "file_extension": ".py",
   "mimetype": "text/x-python",
   "name": "python",
   "nbconvert_exporter": "python",
   "pygments_lexer": "ipython3",
   "version": "3.5.2"
  }
 },
 "nbformat": 4,
 "nbformat_minor": 2
}
